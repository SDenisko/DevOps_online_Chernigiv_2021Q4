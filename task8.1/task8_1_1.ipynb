{
 "cells": [
  {
   "cell_type": "code",
   "execution_count": 1,
   "id": "fa2e439b-49b6-4fc7-95a0-0d799ebe8434",
   "metadata": {},
   "outputs": [
    {
     "name": "stdout",
     "output_type": "stream",
     "text": [
      "hello\n",
      "world\n"
     ]
    }
   ],
   "source": [
    "print ('hello')\n",
    "print ('world')"
   ]
  },
  {
   "cell_type": "code",
   "execution_count": 2,
   "id": "5624258d-c76a-40f7-bfc2-6984146e04ef",
   "metadata": {},
   "outputs": [
    {
     "data": {
      "text/plain": [
       "4"
      ]
     },
     "execution_count": 2,
     "metadata": {},
     "output_type": "execute_result"
    }
   ],
   "source": [
    "2*2"
   ]
  },
  {
   "cell_type": "code",
   "execution_count": 3,
   "id": "214ed002-9a20-4702-a2f3-461a75cf3055",
   "metadata": {},
   "outputs": [
    {
     "data": {
      "text/plain": [
       "2.0"
      ]
     },
     "execution_count": 3,
     "metadata": {},
     "output_type": "execute_result"
    }
   ],
   "source": [
    "2-2\n",
    "4/2"
   ]
  },
  {
   "cell_type": "code",
   "execution_count": 4,
   "id": "d9e6b79d-060e-4ffd-ac64-4bb88cabd70d",
   "metadata": {},
   "outputs": [
    {
     "data": {
      "text/plain": [
       "0"
      ]
     },
     "execution_count": 4,
     "metadata": {},
     "output_type": "execute_result"
    }
   ],
   "source": [
    "2-2"
   ]
  },
  {
   "cell_type": "code",
   "execution_count": 5,
   "id": "e75847d3-a0af-4612-a3a0-fb9447aa099f",
   "metadata": {},
   "outputs": [
    {
     "data": {
      "text/plain": [
       "2.0"
      ]
     },
     "execution_count": 5,
     "metadata": {},
     "output_type": "execute_result"
    }
   ],
   "source": [
    "4/2"
   ]
  },
  {
   "cell_type": "code",
   "execution_count": 6,
   "id": "c58b6d5a-c324-4583-9368-2c5c6128b002",
   "metadata": {},
   "outputs": [
    {
     "data": {
      "text/plain": [
       "1"
      ]
     },
     "execution_count": 6,
     "metadata": {},
     "output_type": "execute_result"
    }
   ],
   "source": [
    "7%2"
   ]
  },
  {
   "cell_type": "code",
   "execution_count": 7,
   "id": "f1a32090-9fce-44fe-be0f-cea811952a4a",
   "metadata": {},
   "outputs": [
    {
     "data": {
      "text/plain": [
       "3.5"
      ]
     },
     "execution_count": 7,
     "metadata": {},
     "output_type": "execute_result"
    }
   ],
   "source": [
    "7/2"
   ]
  },
  {
   "cell_type": "code",
   "execution_count": 8,
   "id": "272a1ee3-0e71-4463-9b8a-ff4cfcc5376e",
   "metadata": {},
   "outputs": [
    {
     "data": {
      "text/plain": [
       "3"
      ]
     },
     "execution_count": 8,
     "metadata": {},
     "output_type": "execute_result"
    }
   ],
   "source": [
    "7//2"
   ]
  },
  {
   "cell_type": "code",
   "execution_count": 9,
   "id": "7f0f7f85-fde6-476e-be9c-8a4fc347fb12",
   "metadata": {},
   "outputs": [
    {
     "data": {
      "text/plain": [
       "16"
      ]
     },
     "execution_count": 9,
     "metadata": {},
     "output_type": "execute_result"
    }
   ],
   "source": [
    "2**4"
   ]
  },
  {
   "cell_type": "code",
   "execution_count": 10,
   "id": "7d3d4d94-d2a1-4d27-80d9-7ad784c5e347",
   "metadata": {},
   "outputs": [
    {
     "data": {
      "text/plain": [
       "False"
      ]
     },
     "execution_count": 10,
     "metadata": {},
     "output_type": "execute_result"
    }
   ],
   "source": [
    "7%2==2"
   ]
  },
  {
   "cell_type": "code",
   "execution_count": 23,
   "id": "ef5ebd07-dec3-4b57-a961-ee7c2994afc9",
   "metadata": {},
   "outputs": [
    {
     "name": "stdout",
     "output_type": "stream",
     "text": [
      "x= 2\n",
      "y= 3\n",
      "x+y= 5\n"
     ]
    }
   ],
   "source": [
    "x=2\n",
    "y=3\n",
    "print('x=',x)\n",
    "print('y=',y)\n",
    "print('x+y=',x+y)"
   ]
  },
  {
   "cell_type": "code",
   "execution_count": 27,
   "id": "402ab554-8f0d-4e6c-b626-eb381ef7f889",
   "metadata": {},
   "outputs": [
    {
     "data": {
      "text/plain": [
       "int"
      ]
     },
     "execution_count": 27,
     "metadata": {},
     "output_type": "execute_result"
    }
   ],
   "source": [
    "type (x)"
   ]
  },
  {
   "cell_type": "code",
   "execution_count": 28,
   "id": "e056114e-aa7f-4037-bb58-d99e65c85d3f",
   "metadata": {},
   "outputs": [
    {
     "data": {
      "text/plain": [
       "'qwe'"
      ]
     },
     "execution_count": 28,
     "metadata": {},
     "output_type": "execute_result"
    }
   ],
   "source": [
    "s='qwe'\n",
    "s"
   ]
  },
  {
   "cell_type": "code",
   "execution_count": 29,
   "id": "ad9b674b-da1f-4a0a-8326-4f30f83736cd",
   "metadata": {},
   "outputs": [
    {
     "data": {
      "text/plain": [
       "str"
      ]
     },
     "execution_count": 29,
     "metadata": {},
     "output_type": "execute_result"
    }
   ],
   "source": [
    "type(s)"
   ]
  },
  {
   "cell_type": "code",
   "execution_count": 30,
   "id": "68777901-28c2-4067-8f0a-e964caf9c364",
   "metadata": {},
   "outputs": [
    {
     "ename": "TypeError",
     "evalue": "unsupported operand type(s) for +: 'int' and 'str'",
     "output_type": "error",
     "traceback": [
      "\u001b[1;31m---------------------------------------------------------------------------\u001b[0m",
      "\u001b[1;31mTypeError\u001b[0m                                 Traceback (most recent call last)",
      "\u001b[1;32m~\\AppData\\Local\\Temp/ipykernel_68/2111885536.py\u001b[0m in \u001b[0;36m<module>\u001b[1;34m\u001b[0m\n\u001b[1;32m----> 1\u001b[1;33m \u001b[0mx\u001b[0m\u001b[1;33m+\u001b[0m\u001b[0ms\u001b[0m\u001b[1;33m\u001b[0m\u001b[1;33m\u001b[0m\u001b[0m\n\u001b[0m",
      "\u001b[1;31mTypeError\u001b[0m: unsupported operand type(s) for +: 'int' and 'str'"
     ]
    }
   ],
   "source": [
    "x+s"
   ]
  },
  {
   "cell_type": "code",
   "execution_count": 31,
   "id": "1ed9fe8e-9e7b-488a-9ebf-ed6ba6136651",
   "metadata": {},
   "outputs": [
    {
     "data": {
      "text/plain": [
       "\"i'm an engineer and strong developer\""
      ]
     },
     "execution_count": 31,
     "metadata": {},
     "output_type": "execute_result"
    }
   ],
   "source": [
    "\"i'm an engineer and strong developer\""
   ]
  },
  {
   "cell_type": "code",
   "execution_count": 32,
   "id": "c66f8978-18ab-4501-a39b-9a0a509cbb98",
   "metadata": {},
   "outputs": [
    {
     "ename": "SyntaxError",
     "evalue": "invalid syntax. Perhaps you forgot a comma? (Temp/ipykernel_68/3752050860.py, line 1)",
     "output_type": "error",
     "traceback": [
      "\u001b[1;36m  File \u001b[1;32m\"C:\\Users\\sden\\AppData\\Local\\Temp/ipykernel_68/3752050860.py\"\u001b[1;36m, line \u001b[1;32m1\u001b[0m\n\u001b[1;33m    print ('i'm an engineer and \"strong\" developer')\u001b[0m\n\u001b[1;37m           ^\u001b[0m\n\u001b[1;31mSyntaxError\u001b[0m\u001b[1;31m:\u001b[0m invalid syntax. Perhaps you forgot a comma?\n"
     ]
    }
   ],
   "source": [
    "print ('i'm an engineer and \"strong\" developer')"
   ]
  },
  {
   "cell_type": "code",
   "execution_count": 33,
   "id": "ab2cdbd8-685a-4da4-9473-3dc65cd0649f",
   "metadata": {},
   "outputs": [
    {
     "name": "stdout",
     "output_type": "stream",
     "text": [
      "i'm an engineer and 'strong' developer\n"
     ]
    }
   ],
   "source": [
    "print (\"i'm an engineer and 'strong' developer\")"
   ]
  },
  {
   "cell_type": "code",
   "execution_count": 35,
   "id": "72a6445a-4bdc-4aec-8a2e-018fd48eb7a0",
   "metadata": {},
   "outputs": [
    {
     "name": "stdout",
     "output_type": "stream",
     "text": [
      "i'm an engineer and \"strong\" developer\n"
     ]
    }
   ],
   "source": [
    "print (\"i'm an engineer and \\\"strong\\\" developer\")"
   ]
  },
  {
   "cell_type": "code",
   "execution_count": 37,
   "id": "d2a25c0d-1d6e-4d62-9f7f-efa5dedc76eb",
   "metadata": {},
   "outputs": [
    {
     "name": "stdout",
     "output_type": "stream",
     "text": [
      "c:\\users\\test_user\n"
     ]
    }
   ],
   "source": [
    "print (\"c:\\\\users\\\\test_user\")"
   ]
  },
  {
   "cell_type": "code",
   "execution_count": 43,
   "id": "58664009-8ce2-4994-afd0-b6402a6f5c12",
   "metadata": {},
   "outputs": [
    {
     "name": "stdout",
     "output_type": "stream",
     "text": [
      "i'm an engineer \n",
      "and \"strong\" developer\n"
     ]
    }
   ],
   "source": [
    "print (\"i'm an engineer \\nand \\\"strong\\\" developer\")"
   ]
  },
  {
   "cell_type": "code",
   "execution_count": 46,
   "id": "e7b82de6-8d56-4ff0-bdcb-2ddb8ac17410",
   "metadata": {},
   "outputs": [
    {
     "name": "stdout",
     "output_type": "stream",
     "text": [
      "p\n"
     ]
    }
   ],
   "source": [
    "array=\"print (\\\"i'm an engineer \\nand \\\"strong\\\" developer\\\")\"\n",
    "print (array[0])"
   ]
  },
  {
   "cell_type": "code",
   "execution_count": 59,
   "id": "a26808d7-1483-4022-90fd-2069b4448e79",
   "metadata": {},
   "outputs": [
    {
     "data": {
      "text/plain": [
       "'PRINT (\"i\\'m an engineer AND \"strong\" developer\")'"
      ]
     },
     "execution_count": 59,
     "metadata": {},
     "output_type": "execute_result"
    }
   ],
   "source": [
    "new_array=\"PRINT\"+array[5:24]+\"AND\"+array[-21:]\n",
    "new_array"
   ]
  },
  {
   "cell_type": "code",
   "execution_count": 60,
   "id": "485f50b0-e20b-41fa-9c53-6606864fb1b8",
   "metadata": {},
   "outputs": [
    {
     "data": {
      "text/plain": [
       "'C:\\\\Users\\\\sden\\\\Desktop\\\\task8.1'"
      ]
     },
     "execution_count": 60,
     "metadata": {},
     "output_type": "execute_result"
    }
   ],
   "source": [
    "pwd"
   ]
  },
  {
   "cell_type": "code",
   "execution_count": 62,
   "id": "b54c1b85-5b14-4349-9d17-0f330f82f25b",
   "metadata": {},
   "outputs": [
    {
     "name": "stdout",
     "output_type": "stream",
     "text": [
      "Writing testfile.txt\n"
     ]
    }
   ],
   "source": [
    "%%writefile testfile.txt\n",
    "name | number\n",
    "Kolya     1\n",
    "Vasya     2\n",
    "Petya     3"
   ]
  },
  {
   "cell_type": "code",
   "execution_count": 94,
   "id": "5602a820-e8c3-4d71-9409-0e2a94c4f28a",
   "metadata": {},
   "outputs": [
    {
     "name": "stdout",
     "output_type": "stream",
     "text": [
      "name | number\n",
      "Kolya     1\n",
      "Vasya     2\n",
      "Petya     3\n",
      "Vera;4Vera   4Vera;4Vera;4Vera;4Vera;4Vera;4\n"
     ]
    }
   ],
   "source": [
    "with open (\"testfile.txt\", mode='r+') as test_file:\n",
    "    test_file.seek(0,2)\n",
    "    test_file.write ('Vera;4')\n",
    "    test_file.seek(0)\n",
    "    print(test_file.read())\n",
    "    test_file.close()"
   ]
  },
  {
   "cell_type": "code",
   "execution_count": 77,
   "id": "25b9666c-44c3-4938-a6ba-db9388ee167c",
   "metadata": {},
   "outputs": [],
   "source": [
    "file=open('testfile.txt')"
   ]
  },
  {
   "cell_type": "code",
   "execution_count": 78,
   "id": "2a31b410-d01d-4604-98ff-8fd295b0d353",
   "metadata": {},
   "outputs": [
    {
     "data": {
      "text/plain": [
       "<_io.TextIOWrapper name='testfile.txt' mode='r' encoding='cp1251'>"
      ]
     },
     "execution_count": 78,
     "metadata": {},
     "output_type": "execute_result"
    }
   ],
   "source": [
    "file"
   ]
  },
  {
   "cell_type": "code",
   "execution_count": 79,
   "id": "72fa4676-0b72-442b-9aa7-d2f7a5039984",
   "metadata": {},
   "outputs": [
    {
     "data": {
      "text/plain": [
       "'name | number\\nKolya     1\\nVasya     2\\nPetya     3\\nVera;4Vera   4Vera;4Vera;4Vera;4'"
      ]
     },
     "execution_count": 79,
     "metadata": {},
     "output_type": "execute_result"
    }
   ],
   "source": [
    "data=file.read()\n",
    "data"
   ]
  },
  {
   "cell_type": "code",
   "execution_count": 80,
   "id": "8554a93c-3590-4e2e-a367-dafcd9f3f43e",
   "metadata": {},
   "outputs": [
    {
     "name": "stdout",
     "output_type": "stream",
     "text": [
      "name | number\n",
      "Kolya     1\n",
      "Vasya     2\n",
      "Petya     3\n",
      "Vera;4Vera   4Vera;4Vera;4Vera;4\n"
     ]
    }
   ],
   "source": [
    "file.seek(0)\n",
    "print(file.read())"
   ]
  },
  {
   "cell_type": "code",
   "execution_count": 81,
   "id": "d2c83754-d4ca-4651-a2d9-421309d4fcaa",
   "metadata": {},
   "outputs": [
    {
     "name": "stdout",
     "output_type": "stream",
     "text": [
      "[1, 2, 3, 4, 5, 6, 7, 8, 9, 10]\n"
     ]
    }
   ],
   "source": [
    "numbers=[1,2,3,4,5,6,7,8,9,10]\n",
    "print (numbers)"
   ]
  },
  {
   "cell_type": "code",
   "execution_count": 82,
   "id": "efde7068-07cc-4984-9543-3db600e65808",
   "metadata": {},
   "outputs": [
    {
     "name": "stdout",
     "output_type": "stream",
     "text": [
      "1\n",
      "2\n",
      "3\n",
      "4\n",
      "5\n",
      "6\n",
      "7\n",
      "8\n",
      "9\n",
      "10\n"
     ]
    }
   ],
   "source": [
    "for i in numbers:\n",
    "    print (i)"
   ]
  },
  {
   "cell_type": "code",
   "execution_count": 86,
   "id": "f1712f71-9ad1-4fbc-b81a-4edbe24ae27a",
   "metadata": {},
   "outputs": [
    {
     "name": "stdout",
     "output_type": "stream",
     "text": [
      "x equals 0\n",
      "x equals 1\n",
      "x equals 2\n",
      "condition is not met\n"
     ]
    }
   ],
   "source": [
    "x=0\n",
    "while x < 3:\n",
    "    print(f'x equals {x}')\n",
    "    x+=1\n",
    "else:\n",
    "    print ('condition is not met')"
   ]
  },
  {
   "cell_type": "code",
   "execution_count": 88,
   "id": "0347853a-70d6-44ce-a8f4-ec3f0ebc796c",
   "metadata": {},
   "outputs": [
    {
     "data": {
      "text/plain": [
       "['h', 'e', 'l', 'l', 'o', ',', ' ', 'w', 'o', 'r', 'l', 'd', '!']"
      ]
     },
     "execution_count": 88,
     "metadata": {},
     "output_type": "execute_result"
    }
   ],
   "source": [
    "test = 'hello, world!'\n",
    "chars = []\n",
    "for i in test:\n",
    "    chars.append(i)\n",
    "chars"
   ]
  },
  {
   "cell_type": "code",
   "execution_count": 89,
   "id": "19072323-d047-4042-ab9c-63adb3591749",
   "metadata": {},
   "outputs": [
    {
     "data": {
      "text/plain": [
       "['h', 'e', 'l', 'l', 'o', ',', ' ', 'w', 'o', 'r', 'l', 'd', '!']"
      ]
     },
     "execution_count": 89,
     "metadata": {},
     "output_type": "execute_result"
    }
   ],
   "source": [
    "chars = [i for i in test]\n",
    "chars"
   ]
  },
  {
   "cell_type": "code",
   "execution_count": 92,
   "id": "483d2501-b685-4829-bff9-a1e78fd2c08b",
   "metadata": {},
   "outputs": [
    {
     "data": {
      "text/plain": [
       "[0, 1, 2, 3, 4, 5, 6, 7, 8, 9, 10]"
      ]
     },
     "execution_count": 92,
     "metadata": {},
     "output_type": "execute_result"
    }
   ],
   "source": [
    "numbers = [n for n in range(0,11)]\n",
    "numbers"
   ]
  },
  {
   "cell_type": "code",
   "execution_count": null,
   "id": "8e9e4f92-19c1-4773-a97e-571a6e27025d",
   "metadata": {},
   "outputs": [],
   "source": []
  }
 ],
 "metadata": {
  "kernelspec": {
   "display_name": "Python 3 (ipykernel)",
   "language": "python",
   "name": "python3"
  },
  "language_info": {
   "codemirror_mode": {
    "name": "ipython",
    "version": 3
   },
   "file_extension": ".py",
   "mimetype": "text/x-python",
   "name": "python",
   "nbconvert_exporter": "python",
   "pygments_lexer": "ipython3",
   "version": "3.10.1"
  }
 },
 "nbformat": 4,
 "nbformat_minor": 5
}
